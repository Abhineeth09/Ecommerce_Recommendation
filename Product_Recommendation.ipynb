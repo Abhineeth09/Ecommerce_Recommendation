{
  "nbformat": 4,
  "nbformat_minor": 0,
  "metadata": {
    "colab": {
      "name": "Product_Recommendation.ipynb",
      "version": "0.3.2",
      "provenance": []
    },
    "kernelspec": {
      "display_name": "Python 3",
      "language": "python",
      "name": "python3"
    }
  },
  "cells": [
    {
      "metadata": {
        "_uuid": "8210107bed9f281a7f404414a177c376421b4bee",
        "id": "44i1ChiDBiA6",
        "colab_type": "code",
        "colab": {}
      },
      "cell_type": "code",
      "source": [
        "import pandas as pd\n",
        "import numpy as np\n",
        "import time\n",
        "from surprise import SVD\n",
        "from surprise import Dataset\n",
        "from surprise.model_selection import cross_validate\n",
        "df=pd.read_csv('/Users/abhineethmishra/Downloads/train_5UKooLv.csv')"
      ],
      "execution_count": 0,
      "outputs": []
    },
    {
      "metadata": {
        "_uuid": "f8e1e6ba835a3048ae6dcbade57af5f56f03add8",
        "id": "n6kCWpgaBiBJ",
        "colab_type": "code",
        "colab": {},
        "outputId": "c164ec8e-2b9f-46fb-efc8-ac1cb723854f"
      },
      "cell_type": "code",
      "source": [
        "df.head(10)"
      ],
      "execution_count": 0,
      "outputs": [
        {
          "output_type": "execute_result",
          "data": {
            "text/html": [
              "<div>\n",
              "<style scoped>\n",
              "    .dataframe tbody tr th:only-of-type {\n",
              "        vertical-align: middle;\n",
              "    }\n",
              "\n",
              "    .dataframe tbody tr th {\n",
              "        vertical-align: top;\n",
              "    }\n",
              "\n",
              "    .dataframe thead th {\n",
              "        text-align: right;\n",
              "    }\n",
              "</style>\n",
              "<table border=\"1\" class=\"dataframe\">\n",
              "  <thead>\n",
              "    <tr style=\"text-align: right;\">\n",
              "      <th></th>\n",
              "      <th>CustomerID</th>\n",
              "      <th>InvoiceNo</th>\n",
              "      <th>Quantity</th>\n",
              "      <th>InvoiceDate</th>\n",
              "      <th>UnitPrice</th>\n",
              "      <th>Country</th>\n",
              "      <th>StockCode</th>\n",
              "    </tr>\n",
              "  </thead>\n",
              "  <tbody>\n",
              "    <tr>\n",
              "      <th>0</th>\n",
              "      <td>27270</td>\n",
              "      <td>27270</td>\n",
              "      <td>7</td>\n",
              "      <td>01/12/10 8:26</td>\n",
              "      <td>2.55</td>\n",
              "      <td>PX</td>\n",
              "      <td>85123AY</td>\n",
              "    </tr>\n",
              "    <tr>\n",
              "      <th>1</th>\n",
              "      <td>27270</td>\n",
              "      <td>27270</td>\n",
              "      <td>7</td>\n",
              "      <td>01/12/10 8:26</td>\n",
              "      <td>3.39</td>\n",
              "      <td>PX</td>\n",
              "      <td>71053R</td>\n",
              "    </tr>\n",
              "    <tr>\n",
              "      <th>2</th>\n",
              "      <td>27270</td>\n",
              "      <td>27270</td>\n",
              "      <td>9</td>\n",
              "      <td>01/12/10 8:26</td>\n",
              "      <td>2.75</td>\n",
              "      <td>PX</td>\n",
              "      <td>84406BH</td>\n",
              "    </tr>\n",
              "    <tr>\n",
              "      <th>3</th>\n",
              "      <td>27270</td>\n",
              "      <td>27270</td>\n",
              "      <td>7</td>\n",
              "      <td>01/12/10 8:26</td>\n",
              "      <td>3.39</td>\n",
              "      <td>PX</td>\n",
              "      <td>84029GV</td>\n",
              "    </tr>\n",
              "    <tr>\n",
              "      <th>4</th>\n",
              "      <td>27270</td>\n",
              "      <td>27270</td>\n",
              "      <td>7</td>\n",
              "      <td>01/12/10 8:26</td>\n",
              "      <td>3.39</td>\n",
              "      <td>PX</td>\n",
              "      <td>84029EX</td>\n",
              "    </tr>\n",
              "    <tr>\n",
              "      <th>5</th>\n",
              "      <td>27270</td>\n",
              "      <td>27270</td>\n",
              "      <td>2</td>\n",
              "      <td>01/12/10 8:26</td>\n",
              "      <td>7.65</td>\n",
              "      <td>PX</td>\n",
              "      <td>22752G</td>\n",
              "    </tr>\n",
              "    <tr>\n",
              "      <th>6</th>\n",
              "      <td>27270</td>\n",
              "      <td>27270</td>\n",
              "      <td>7</td>\n",
              "      <td>01/12/10 8:26</td>\n",
              "      <td>4.25</td>\n",
              "      <td>PX</td>\n",
              "      <td>21730R</td>\n",
              "    </tr>\n",
              "    <tr>\n",
              "      <th>7</th>\n",
              "      <td>427266</td>\n",
              "      <td>427266</td>\n",
              "      <td>3</td>\n",
              "      <td>01/12/10 8:35</td>\n",
              "      <td>5.95</td>\n",
              "      <td>PX</td>\n",
              "      <td>21756Q</td>\n",
              "    </tr>\n",
              "    <tr>\n",
              "      <th>8</th>\n",
              "      <td>462735</td>\n",
              "      <td>462735</td>\n",
              "      <td>28</td>\n",
              "      <td>01/12/10 8:45</td>\n",
              "      <td>3.75</td>\n",
              "      <td>RA</td>\n",
              "      <td>22728B</td>\n",
              "    </tr>\n",
              "    <tr>\n",
              "      <th>9</th>\n",
              "      <td>462735</td>\n",
              "      <td>462735</td>\n",
              "      <td>28</td>\n",
              "      <td>01/12/10 8:45</td>\n",
              "      <td>3.75</td>\n",
              "      <td>RA</td>\n",
              "      <td>22727B</td>\n",
              "    </tr>\n",
              "  </tbody>\n",
              "</table>\n",
              "</div>"
            ],
            "text/plain": [
              "   CustomerID  InvoiceNo  Quantity    InvoiceDate  UnitPrice Country StockCode\n",
              "0       27270      27270         7  01/12/10 8:26       2.55      PX   85123AY\n",
              "1       27270      27270         7  01/12/10 8:26       3.39      PX    71053R\n",
              "2       27270      27270         9  01/12/10 8:26       2.75      PX   84406BH\n",
              "3       27270      27270         7  01/12/10 8:26       3.39      PX   84029GV\n",
              "4       27270      27270         7  01/12/10 8:26       3.39      PX   84029EX\n",
              "5       27270      27270         2  01/12/10 8:26       7.65      PX    22752G\n",
              "6       27270      27270         7  01/12/10 8:26       4.25      PX    21730R\n",
              "7      427266     427266         3  01/12/10 8:35       5.95      PX    21756Q\n",
              "8      462735     462735        28  01/12/10 8:45       3.75      RA    22728B\n",
              "9      462735     462735        28  01/12/10 8:45       3.75      RA    22727B"
            ]
          },
          "metadata": {
            "tags": []
          },
          "execution_count": 2
        }
      ]
    },
    {
      "metadata": {
        "_uuid": "e9339d22d258037e0bf375f17dbc62cc72140750",
        "id": "dSzuVMHDBiBa",
        "colab_type": "code",
        "colab": {}
      },
      "cell_type": "code",
      "source": [
        "#removing unnecassary columns\n",
        "df=df.drop(columns=['InvoiceDate','InvoiceNo','UnitPrice','Country'])"
      ],
      "execution_count": 0,
      "outputs": []
    },
    {
      "metadata": {
        "_uuid": "e4fe78c840cb9ddf277841fa1a17fd83e61f8923",
        "id": "TvhTG-tiBiBh",
        "colab_type": "code",
        "colab": {},
        "outputId": "99530340-d4d1-490a-9cc8-ef5047e84dd9"
      },
      "cell_type": "code",
      "source": [
        "newdf=df\n",
        "newdf.head()"
      ],
      "execution_count": 0,
      "outputs": [
        {
          "output_type": "execute_result",
          "data": {
            "text/html": [
              "<div>\n",
              "<style scoped>\n",
              "    .dataframe tbody tr th:only-of-type {\n",
              "        vertical-align: middle;\n",
              "    }\n",
              "\n",
              "    .dataframe tbody tr th {\n",
              "        vertical-align: top;\n",
              "    }\n",
              "\n",
              "    .dataframe thead th {\n",
              "        text-align: right;\n",
              "    }\n",
              "</style>\n",
              "<table border=\"1\" class=\"dataframe\">\n",
              "  <thead>\n",
              "    <tr style=\"text-align: right;\">\n",
              "      <th></th>\n",
              "      <th>CustomerID</th>\n",
              "      <th>Quantity</th>\n",
              "      <th>StockCode</th>\n",
              "    </tr>\n",
              "  </thead>\n",
              "  <tbody>\n",
              "    <tr>\n",
              "      <th>0</th>\n",
              "      <td>27270</td>\n",
              "      <td>7</td>\n",
              "      <td>85123AY</td>\n",
              "    </tr>\n",
              "    <tr>\n",
              "      <th>1</th>\n",
              "      <td>27270</td>\n",
              "      <td>7</td>\n",
              "      <td>71053R</td>\n",
              "    </tr>\n",
              "    <tr>\n",
              "      <th>2</th>\n",
              "      <td>27270</td>\n",
              "      <td>9</td>\n",
              "      <td>84406BH</td>\n",
              "    </tr>\n",
              "    <tr>\n",
              "      <th>3</th>\n",
              "      <td>27270</td>\n",
              "      <td>7</td>\n",
              "      <td>84029GV</td>\n",
              "    </tr>\n",
              "    <tr>\n",
              "      <th>4</th>\n",
              "      <td>27270</td>\n",
              "      <td>7</td>\n",
              "      <td>84029EX</td>\n",
              "    </tr>\n",
              "  </tbody>\n",
              "</table>\n",
              "</div>"
            ],
            "text/plain": [
              "   CustomerID  Quantity StockCode\n",
              "0       27270         7   85123AY\n",
              "1       27270         7    71053R\n",
              "2       27270         9   84406BH\n",
              "3       27270         7   84029GV\n",
              "4       27270         7   84029EX"
            ]
          },
          "metadata": {
            "tags": []
          },
          "execution_count": 4
        }
      ]
    },
    {
      "metadata": {
        "_uuid": "ef7aa1e2651ef3301e3d62b48683de709238a812",
        "id": "SxZ6CKhsBiBr",
        "colab_type": "code",
        "colab": {}
      },
      "cell_type": "code",
      "source": [
        "#algo = SVD()\n",
        "data=newdf\n",
        "#cross_validate(algo,data,measures=['RMSE', 'MAE'], cv=5, verbose=True)"
      ],
      "execution_count": 0,
      "outputs": []
    },
    {
      "metadata": {
        "_uuid": "76b3b09b89791425604fdc0748cd3ea06914e5a2",
        "id": "jtH-Q__HBiBv",
        "colab_type": "code",
        "colab": {},
        "outputId": "c68b7d9d-16f7-40ee-f650-52ecbed44fcf"
      },
      "cell_type": "code",
      "source": [
        "!pip install virtualenv"
      ],
      "execution_count": 0,
      "outputs": [
        {
          "output_type": "stream",
          "text": [
            "Requirement already satisfied: virtualenv in /Library/Frameworks/Python.framework/Versions/3.7/lib/python3.7/site-packages (16.4.1)\r\n"
          ],
          "name": "stdout"
        }
      ]
    },
    {
      "metadata": {
        "_uuid": "6eebb1ee4d83d8cc8b5b4906d59d71ec9f61f40a",
        "id": "FveNI44SBiB3",
        "colab_type": "code",
        "colab": {},
        "outputId": "960c1bff-65d3-41cf-fbf8-400393beb6f4"
      },
      "cell_type": "code",
      "source": [
        "!pip install --upgrade pip"
      ],
      "execution_count": 0,
      "outputs": [
        {
          "output_type": "stream",
          "text": [
            "Requirement already up-to-date: pip in /Library/Frameworks/Python.framework/Versions/3.7/lib/python3.7/site-packages (19.0.3)\r\n"
          ],
          "name": "stdout"
        }
      ]
    },
    {
      "metadata": {
        "_uuid": "b8e5887c6de5f31b6ac28db2c4d6b19b8f8be3fd",
        "id": "Bd5AhZqRBiB9",
        "colab_type": "code",
        "colab": {},
        "outputId": "562baf77-184e-4566-9c34-905e4cdbacd8"
      },
      "cell_type": "code",
      "source": [
        "!cd ~\n",
        "!virtualenv venv\n",
        "\n",
        "# Active your virtual environment\n",
        "!source pythonenv/bin/activate"
      ],
      "execution_count": 0,
      "outputs": [
        {
          "output_type": "stream",
          "text": [
            "Using base prefix '/Library/Frameworks/Python.framework/Versions/3.7'\n",
            "New python executable in /Users/abhineethmishra/Downloads/venv/bin/python3.7\n",
            "Also creating executable in /Users/abhineethmishra/Downloads/venv/bin/python\n",
            "Installing setuptools, pip, wheel...\n",
            "done.\n",
            "/bin/sh: pythonenv/bin/activate: No such file or directory\n"
          ],
          "name": "stdout"
        }
      ]
    },
    {
      "metadata": {
        "_uuid": "b83c65429835c27114a28314014c040cc25aa30f",
        "id": "vcHkX8X9BiCD",
        "colab_type": "code",
        "colab": {},
        "outputId": "ef2e9e30-2a45-4ccf-ed16-496af5cd6c77"
      },
      "cell_type": "code",
      "source": [
        "!```shell` pip3 install -U turicreate"
      ],
      "execution_count": 0,
      "outputs": [
        {
          "output_type": "stream",
          "text": [
            "/bin/sh: shell: command not found\n",
            "Collecting turicreate\n",
            "  Using cached https://files.pythonhosted.org/packages/db/54/167837569bcb816b3fe68f003f18d07ab9d5ac31b2b12b8f9b07b1ccc7a4/turicreate-4.2.tar.gz\n",
            "Installing collected packages: turicreate\n",
            "  Running setup.py install for turicreate ... \u001b[?25lerror\n",
            "    Complete output from command /Library/Frameworks/Python.framework/Versions/3.7/bin/python3.7 -u -c \"import setuptools, tokenize;__file__='/private/var/folders/21/x2gdvwls52xfg_x7n07mdbpw0000gn/T/pip-install-qffabvtl/turicreate/setup.py';f=getattr(tokenize, 'open', open)(__file__);code=f.read().replace('\\r\\n', '\\n');f.close();exec(compile(code, __file__, 'exec'))\" install --record /private/var/folders/21/x2gdvwls52xfg_x7n07mdbpw0000gn/T/pip-record-8uquu665/install-record.txt --single-version-externally-managed --compile:\n",
            "    running install\n",
            "    \n",
            "    \n",
            "            ==================================================================================\n",
            "            ERROR\n",
            "    \n",
            "            If you see this message, pip install did not find an available binary package\n",
            "            for your system. Supported platforms are:\n",
            "    \n",
            "            * Linux x86_64 (including WSL on Windows 10).\n",
            "            * macOS 10.12+ x86_64.\n",
            "            * Python 2.7, 3.5, or 3.6.\n",
            "    \n",
            "            Other possible causes of this error are:\n",
            "    \n",
            "            * Outdated pip version (try `pip install -U pip`).\n",
            "    \n",
            "            ==================================================================================\n",
            "    \n",
            "    \n",
            "    \n",
            "    ----------------------------------------\n",
            "\u001b[31mCommand \"/Library/Frameworks/Python.framework/Versions/3.7/bin/python3.7 -u -c \"import setuptools, tokenize;__file__='/private/var/folders/21/x2gdvwls52xfg_x7n07mdbpw0000gn/T/pip-install-qffabvtl/turicreate/setup.py';f=getattr(tokenize, 'open', open)(__file__);code=f.read().replace('\\r\\n', '\\n');f.close();exec(compile(code, __file__, 'exec'))\" install --record /private/var/folders/21/x2gdvwls52xfg_x7n07mdbpw0000gn/T/pip-record-8uquu665/install-record.txt --single-version-externally-managed --compile\" failed with error code 1 in /private/var/folders/21/x2gdvwls52xfg_x7n07mdbpw0000gn/T/pip-install-qffabvtl/turicreate/\u001b[0m\n",
            "\u001b[?25h"
          ],
          "name": "stdout"
        }
      ]
    },
    {
      "metadata": {
        "_uuid": "d407c2dda1f2449fa71017769a995cfe6d5fc383",
        "id": "PeK032hZBiCJ",
        "colab_type": "code",
        "colab": {},
        "outputId": "59d2d587-49a0-4ac6-a39f-bf0a0b1dcd01"
      },
      "cell_type": "code",
      "source": [
        "import turicreate as tc"
      ],
      "execution_count": 0,
      "outputs": [
        {
          "output_type": "error",
          "ename": "ModuleNotFoundError",
          "evalue": "No module named 'turicreate'",
          "traceback": [
            "\u001b[0;31m---------------------------------------------------------------------------\u001b[0m",
            "\u001b[0;31mModuleNotFoundError\u001b[0m                       Traceback (most recent call last)",
            "\u001b[0;32m<ipython-input-12-5e19a42750e5>\u001b[0m in \u001b[0;36m<module>\u001b[0;34m\u001b[0m\n\u001b[0;32m----> 1\u001b[0;31m \u001b[0;32mimport\u001b[0m \u001b[0mturicreate\u001b[0m \u001b[0;32mas\u001b[0m \u001b[0mtc\u001b[0m\u001b[0;34m\u001b[0m\u001b[0;34m\u001b[0m\u001b[0m\n\u001b[0m",
            "\u001b[0;31mModuleNotFoundError\u001b[0m: No module named 'turicreate'"
          ]
        }
      ]
    },
    {
      "metadata": {
        "_uuid": "c54f4860fad36b5ec2a93e732da4f1cdfd9e4269",
        "id": "iUI17iuOBiCN",
        "colab_type": "code",
        "colab": {}
      },
      "cell_type": "code",
      "source": [
        "def create_data_dummy(data):\n",
        "    data_dummy = data.copy()\n",
        "    data_dummy['purchase_dummy'] = 1\n",
        "    return data_dummy\n",
        "data_dummy = create_data_dummy(data)"
      ],
      "execution_count": 0,
      "outputs": []
    },
    {
      "metadata": {
        "_uuid": "bdf81b2c2e613b8551e8fedc9134f74b06975801",
        "id": "viFXHPZ-BiCQ",
        "colab_type": "code",
        "colab": {}
      },
      "cell_type": "code",
      "source": [
        "data_dummy.head()"
      ],
      "execution_count": 0,
      "outputs": []
    },
    {
      "metadata": {
        "_uuid": "c936f4731da6bc1f25c7913e844883bb051b8f8f",
        "id": "-uGsArg7BiCU",
        "colab_type": "code",
        "colab": {}
      },
      "cell_type": "code",
      "source": [
        "#Normalizing using user-item matrix\n",
        "df_matrix = pd.pivot_table(data, values='Quantity', index='CustomerID', columns='StockCode')\n",
        "#normalizing\n",
        "df_matrix_norm = (df_matrix-df_matrix.min())/(df_matrix.max()-df_matrix.min())"
      ],
      "execution_count": 0,
      "outputs": []
    },
    {
      "metadata": {
        "_uuid": "c84951f5711dec195a192285a79335debb54ad18",
        "id": "nl6tTuLeBiCX",
        "colab_type": "code",
        "colab": {}
      },
      "cell_type": "code",
      "source": [
        "# create a table for input to the modeling  \n",
        "d = df_matrix_norm.reset_index() \n",
        "d.index.names = ['scaled_purchase_freq'] \n",
        "data_norm = pd.melt(d, id_vars=['CustomerID'], value_name='scaled_purchase_freq').dropna()\n",
        "print(data_norm.shape)\n",
        "data_norm.head()"
      ],
      "execution_count": 0,
      "outputs": []
    },
    {
      "metadata": {
        "_uuid": "a12414f0c9da747bc30523d1a620123e99ede258",
        "id": "ax-9q2cMBiCa",
        "colab_type": "code",
        "colab": {}
      },
      "cell_type": "code",
      "source": [
        "df_matrix_norm.shape"
      ],
      "execution_count": 0,
      "outputs": []
    },
    {
      "metadata": {
        "_uuid": "28d9fd8f221df4984161dbcf9b469d3ff007c61d",
        "id": "pTnuEzFuBiCd",
        "colab_type": "code",
        "colab": {}
      },
      "cell_type": "code",
      "source": [
        "#putiing this into a function\n",
        "def normalize_data(data):\n",
        "    df_matrix = pd.pivot_table(data, values='Quantity', index='CustomerID', columns='StockCode')\n",
        "    df_matrix_norm = (df_matrix-df_matrix.min())/(df_matrix.max()-df_matrix.min())\n",
        "    d = df_matrix_norm.reset_index()\n",
        "    d.index.names = ['scaled_purchase_freq']\n",
        "    return pd.melt(d, id_vars=['CustomerID'], value_name='scaled_purchase_freq').dropna()"
      ],
      "execution_count": 0,
      "outputs": []
    },
    {
      "metadata": {
        "_uuid": "16685038877cdca77a79372f7c6959b6a4e5d5d7",
        "id": "hQmQyQb6BiCg",
        "colab_type": "code",
        "colab": {}
      },
      "cell_type": "code",
      "source": [
        "def split_data(data):\n",
        "    '''\n",
        "    Splits dataset into training and test set.\n",
        "    \n",
        "    Args:\n",
        "        data (pandas.DataFrame)\n",
        "        \n",
        "    Returns\n",
        "        train_data (tc.SFrame)\n",
        "        test_data (tc.SFrame)\n",
        "    '''\n",
        "    train, test = train_test_split(data, test_size = 0.2)\n",
        "    train_data = tc.SFrame(train)\n",
        "    test_data = tc.SFrame(test)\n",
        "    return train_data, test_data"
      ],
      "execution_count": 0,
      "outputs": []
    },
    {
      "metadata": {
        "_uuid": "57ddc2498e08dffb1a00aecdc8f6769c2648e4f4",
        "id": "XDf9lfzUBiCj",
        "colab_type": "code",
        "colab": {}
      },
      "cell_type": "code",
      "source": [
        "import sklearn\n",
        "from sklearn.model_selection import train_test_split\n",
        "train_data, test_data = split_data(data)\n",
        "train_data_dummy, test_data_dummy = split_data(data_dummy)\n",
        "train_data_norm, test_data_norm = split_data(data_norm)"
      ],
      "execution_count": 0,
      "outputs": []
    },
    {
      "metadata": {
        "_uuid": "491f9ea2b5df8950d24de0e63f98786086454929",
        "id": "n6mGo80rBiCn",
        "colab_type": "code",
        "colab": {}
      },
      "cell_type": "code",
      "source": [
        "customers=[]\n",
        "customers=newdf['CustomerID'].unique()"
      ],
      "execution_count": 0,
      "outputs": []
    },
    {
      "metadata": {
        "_uuid": "8fe95811373cf992cfba048ecdbdbf712aaa6120",
        "id": "Kv869gylBiCq",
        "colab_type": "code",
        "colab": {}
      },
      "cell_type": "code",
      "source": [
        "#Defining the model using turicreate\n",
        "user_id = 'CustomerID'\n",
        "item_id = 'StockCode'\n",
        "users_to_recommend = customers\n",
        "n_rec = 10 # number of items to recommend\n",
        "n_display = 30 # to display the first few rows in an output dataset"
      ],
      "execution_count": 0,
      "outputs": []
    },
    {
      "metadata": {
        "_uuid": "e34845985a226b789c6cfd4731e623efe0394b85",
        "id": "q3tyRrCZBiCr",
        "colab_type": "code",
        "colab": {}
      },
      "cell_type": "code",
      "source": [
        "def model(train_data, name, user_id, item_id, target, users_to_recommend, n_rec, n_display):\n",
        "    if name == 'popularity':\n",
        "        model = tc.popularity_recommender.create(train_data, \n",
        "                                                    user_id=user_id, \n",
        "                                                    item_id=item_id, \n",
        "                                                    target=target)\n",
        "    elif name == 'cosine':\n",
        "        model = tc.item_similarity_recommender.create(train_data, \n",
        "                                                    user_id=user_id, \n",
        "                                                    item_id=item_id, \n",
        "                                                    target=target, \n",
        "                                                    similarity_type='cosine')\n",
        "    elif name == 'pearson':\n",
        "        model = tc.item_similarity_recommender.create(train_data, \n",
        "                                                    user_id=user_id, \n",
        "                                                    item_id=item_id, \n",
        "                                                    target=target, \n",
        "                                                    similarity_type='pearson')\n",
        "        \n",
        "    recom = model.recommend(users=users_to_recommend, k=n_rec)\n",
        "    recom.print_rows(n_display)\n",
        "    return model"
      ],
      "execution_count": 0,
      "outputs": []
    },
    {
      "metadata": {
        "_uuid": "b1a32a7a25cbf8fa458a08357b03bc050960f010",
        "id": "i-wDhiA1BiCt",
        "colab_type": "code",
        "colab": {}
      },
      "cell_type": "code",
      "source": [
        "name = 'popularity'\n",
        "target = 'Quantity'\n",
        "popularity = model(train_data, name, user_id, item_id, target, users_to_recommend, n_rec, n_display)"
      ],
      "execution_count": 0,
      "outputs": []
    },
    {
      "metadata": {
        "_uuid": "c2e11020738401189d6d74688a3845afbd10e485",
        "id": "djf2r5KUBiCv",
        "colab_type": "code",
        "colab": {}
      },
      "cell_type": "code",
      "source": [
        "name = 'popularity'\n",
        "target = 'purchase_dummy'\n",
        "pop_dummy = model(train_data_dummy, name, user_id, item_id, target, users_to_recommend, n_rec, n_display)"
      ],
      "execution_count": 0,
      "outputs": []
    },
    {
      "metadata": {
        "_uuid": "2196333039e38ff9cdd3ea1b687383976bb9a28b",
        "id": "8fw72TiaBiCx",
        "colab_type": "code",
        "colab": {}
      },
      "cell_type": "code",
      "source": [
        "name = 'popularity'\n",
        "target = 'scaled_purchase_freq'\n",
        "pop_norm = model(train_data_norm, name, user_id, item_id, target, users_to_recommend, n_rec, n_display)"
      ],
      "execution_count": 0,
      "outputs": []
    },
    {
      "metadata": {
        "_uuid": "7572bf503a10b10be3c688b345f9feac8876e5d7",
        "id": "TTR8oXLMBiCz",
        "colab_type": "code",
        "colab": {}
      },
      "cell_type": "code",
      "source": [
        "name = 'cosine'\n",
        "target = 'Quantity'\n",
        "cos = model(train_data, name, user_id, item_id, target, users_to_recommend, n_rec, n_display)"
      ],
      "execution_count": 0,
      "outputs": []
    },
    {
      "metadata": {
        "_uuid": "c289a7afdd9d5d6cd89b1b573f42a35cb98d10c9",
        "id": "qJnyawMCBiC1",
        "colab_type": "code",
        "colab": {}
      },
      "cell_type": "code",
      "source": [
        "name = 'cosine'\n",
        "target = 'purchase_dummy'\n",
        "cos_dummy = model(train_data_dummy, name, user_id, item_id, target, users_to_recommend, n_rec, n_display)"
      ],
      "execution_count": 0,
      "outputs": []
    },
    {
      "metadata": {
        "_uuid": "98bf0f3dfba3ac0588c1f77518b4c986aa9f0c67",
        "id": "GhbmKFqYBiC3",
        "colab_type": "code",
        "colab": {}
      },
      "cell_type": "code",
      "source": [
        "name = 'cosine' \n",
        "target = 'scaled_purchase_freq' \n",
        "cos_norm = model(train_data_norm, name, user_id, item_id, target, users_to_recommend, n_rec, n_display)"
      ],
      "execution_count": 0,
      "outputs": []
    },
    {
      "metadata": {
        "_uuid": "457ef9edbe25f26216fe4c0c48650c6981714e8d",
        "id": "vYkOCBMLBiC5",
        "colab_type": "code",
        "colab": {}
      },
      "cell_type": "code",
      "source": [
        "name = 'pearson'\n",
        "target = 'Quantity'\n",
        "pear = model(train_data, name, user_id, item_id, target, users_to_recommend, n_rec, n_display)"
      ],
      "execution_count": 0,
      "outputs": []
    },
    {
      "metadata": {
        "_uuid": "841225d21734c4bc768f063039e538096990ce50",
        "id": "EK5eW4J7BiC7",
        "colab_type": "code",
        "colab": {}
      },
      "cell_type": "code",
      "source": [
        "name = 'pearson'\n",
        "target = 'purchase_dummy'\n",
        "pear_dummy = model(train_data_dummy, name, user_id, item_id, target, users_to_recommend, n_rec, n_display)"
      ],
      "execution_count": 0,
      "outputs": []
    },
    {
      "metadata": {
        "_uuid": "e93dd9dad57e53187acb9ce4fb5bc9679771e582",
        "id": "OM02C_4_BiC8",
        "colab_type": "code",
        "colab": {}
      },
      "cell_type": "code",
      "source": [
        "name = 'pearson'\n",
        "target = 'scaled_purchase_freq'\n",
        "pear_norm = model(train_data_norm, name, user_id, item_id, target, users_to_recommend, n_rec, n_display)"
      ],
      "execution_count": 0,
      "outputs": []
    },
    {
      "metadata": {
        "_uuid": "0ce4d1587e33c26c8a19d0f56394bbc376f0f89a",
        "id": "b5cGaTYCBiC-",
        "colab_type": "code",
        "colab": {}
      },
      "cell_type": "code",
      "source": [
        "'''Model Evaluation'''\n",
        "#initial variables\n",
        "models_w_counts = [popularity, cos, pear]\n",
        "models_w_dummy = [pop_dummy, cos_dummy, pear_dummy]\n",
        "models_w_norm = [pop_norm, cos_norm, pear_norm]\n",
        "names_w_counts = ['Popularity Model on Purchase Counts', 'Cosine Similarity on Purchase Counts', 'Pearson Similarity on Purchase Counts']\n",
        "names_w_dummy = ['Popularity Model on Purchase Dummy', 'Cosine Similarity on Purchase Dummy', 'Pearson Similarity on Purchase Dummy']\n",
        "names_w_norm = ['Popularity Model on Scaled Purchase Counts', 'Cosine Similarity on Scaled Purchase Counts', 'Pearson Similarity on Scaled Purchase Counts']"
      ],
      "execution_count": 0,
      "outputs": []
    },
    {
      "metadata": {
        "_uuid": "4c80f5a5f72336730b8ca0a25b01a3b53c2217d2",
        "id": "QpPFbWp3BiDB",
        "colab_type": "code",
        "colab": {}
      },
      "cell_type": "code",
      "source": [
        "eval_counts = tc.recommender.util.compare_models(test_data, models_w_counts, model_names=names_w_counts)\n",
        "eval_dummy = tc.recommender.util.compare_models(test_data_dummy, models_w_dummy, model_names=names_w_dummy)\n",
        "eval_norm = tc.recommender.util.compare_models(test_data_norm, models_w_norm, model_names=names_w_norm)"
      ],
      "execution_count": 0,
      "outputs": []
    },
    {
      "metadata": {
        "_uuid": "4194aaed2bafb327fc50c0af379e460f876243cd",
        "id": "tMjra7o_BiDF",
        "colab_type": "code",
        "colab": {}
      },
      "cell_type": "code",
      "source": [
        ""
      ],
      "execution_count": 0,
      "outputs": []
    }
  ]
}