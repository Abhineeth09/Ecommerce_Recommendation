{
 "cells": [
  {
   "cell_type": "code",
   "execution_count": 1,
   "metadata": {
    "_uuid": "8210107bed9f281a7f404414a177c376421b4bee"
   },
   "outputs": [],
   "source": [
    "import pandas as pd\n",
    "import numpy as np\n",
    "import time\n",
    "from surprise import SVD\n",
    "from surprise import Dataset\n",
    "from surprise.model_selection import cross_validate\n",
    "df=pd.read_csv('/Users/abhineethmishra/Downloads/train_5UKooLv.csv')"
   ]
  },
  {
   "cell_type": "code",
   "execution_count": 2,
   "metadata": {
    "_uuid": "f8e1e6ba835a3048ae6dcbade57af5f56f03add8"
   },
   "outputs": [
    {
     "data": {
      "text/html": [
       "<div>\n",
       "<style scoped>\n",
       "    .dataframe tbody tr th:only-of-type {\n",
       "        vertical-align: middle;\n",
       "    }\n",
       "\n",
       "    .dataframe tbody tr th {\n",
       "        vertical-align: top;\n",
       "    }\n",
       "\n",
       "    .dataframe thead th {\n",
       "        text-align: right;\n",
       "    }\n",
       "</style>\n",
       "<table border=\"1\" class=\"dataframe\">\n",
       "  <thead>\n",
       "    <tr style=\"text-align: right;\">\n",
       "      <th></th>\n",
       "      <th>CustomerID</th>\n",
       "      <th>InvoiceNo</th>\n",
       "      <th>Quantity</th>\n",
       "      <th>InvoiceDate</th>\n",
       "      <th>UnitPrice</th>\n",
       "      <th>Country</th>\n",
       "      <th>StockCode</th>\n",
       "    </tr>\n",
       "  </thead>\n",
       "  <tbody>\n",
       "    <tr>\n",
       "      <th>0</th>\n",
       "      <td>27270</td>\n",
       "      <td>27270</td>\n",
       "      <td>7</td>\n",
       "      <td>01/12/10 8:26</td>\n",
       "      <td>2.55</td>\n",
       "      <td>PX</td>\n",
       "      <td>85123AY</td>\n",
       "    </tr>\n",
       "    <tr>\n",
       "      <th>1</th>\n",
       "      <td>27270</td>\n",
       "      <td>27270</td>\n",
       "      <td>7</td>\n",
       "      <td>01/12/10 8:26</td>\n",
       "      <td>3.39</td>\n",
       "      <td>PX</td>\n",
       "      <td>71053R</td>\n",
       "    </tr>\n",
       "    <tr>\n",
       "      <th>2</th>\n",
       "      <td>27270</td>\n",
       "      <td>27270</td>\n",
       "      <td>9</td>\n",
       "      <td>01/12/10 8:26</td>\n",
       "      <td>2.75</td>\n",
       "      <td>PX</td>\n",
       "      <td>84406BH</td>\n",
       "    </tr>\n",
       "    <tr>\n",
       "      <th>3</th>\n",
       "      <td>27270</td>\n",
       "      <td>27270</td>\n",
       "      <td>7</td>\n",
       "      <td>01/12/10 8:26</td>\n",
       "      <td>3.39</td>\n",
       "      <td>PX</td>\n",
       "      <td>84029GV</td>\n",
       "    </tr>\n",
       "    <tr>\n",
       "      <th>4</th>\n",
       "      <td>27270</td>\n",
       "      <td>27270</td>\n",
       "      <td>7</td>\n",
       "      <td>01/12/10 8:26</td>\n",
       "      <td>3.39</td>\n",
       "      <td>PX</td>\n",
       "      <td>84029EX</td>\n",
       "    </tr>\n",
       "    <tr>\n",
       "      <th>5</th>\n",
       "      <td>27270</td>\n",
       "      <td>27270</td>\n",
       "      <td>2</td>\n",
       "      <td>01/12/10 8:26</td>\n",
       "      <td>7.65</td>\n",
       "      <td>PX</td>\n",
       "      <td>22752G</td>\n",
       "    </tr>\n",
       "    <tr>\n",
       "      <th>6</th>\n",
       "      <td>27270</td>\n",
       "      <td>27270</td>\n",
       "      <td>7</td>\n",
       "      <td>01/12/10 8:26</td>\n",
       "      <td>4.25</td>\n",
       "      <td>PX</td>\n",
       "      <td>21730R</td>\n",
       "    </tr>\n",
       "    <tr>\n",
       "      <th>7</th>\n",
       "      <td>427266</td>\n",
       "      <td>427266</td>\n",
       "      <td>3</td>\n",
       "      <td>01/12/10 8:35</td>\n",
       "      <td>5.95</td>\n",
       "      <td>PX</td>\n",
       "      <td>21756Q</td>\n",
       "    </tr>\n",
       "    <tr>\n",
       "      <th>8</th>\n",
       "      <td>462735</td>\n",
       "      <td>462735</td>\n",
       "      <td>28</td>\n",
       "      <td>01/12/10 8:45</td>\n",
       "      <td>3.75</td>\n",
       "      <td>RA</td>\n",
       "      <td>22728B</td>\n",
       "    </tr>\n",
       "    <tr>\n",
       "      <th>9</th>\n",
       "      <td>462735</td>\n",
       "      <td>462735</td>\n",
       "      <td>28</td>\n",
       "      <td>01/12/10 8:45</td>\n",
       "      <td>3.75</td>\n",
       "      <td>RA</td>\n",
       "      <td>22727B</td>\n",
       "    </tr>\n",
       "  </tbody>\n",
       "</table>\n",
       "</div>"
      ],
      "text/plain": [
       "   CustomerID  InvoiceNo  Quantity    InvoiceDate  UnitPrice Country StockCode\n",
       "0       27270      27270         7  01/12/10 8:26       2.55      PX   85123AY\n",
       "1       27270      27270         7  01/12/10 8:26       3.39      PX    71053R\n",
       "2       27270      27270         9  01/12/10 8:26       2.75      PX   84406BH\n",
       "3       27270      27270         7  01/12/10 8:26       3.39      PX   84029GV\n",
       "4       27270      27270         7  01/12/10 8:26       3.39      PX   84029EX\n",
       "5       27270      27270         2  01/12/10 8:26       7.65      PX    22752G\n",
       "6       27270      27270         7  01/12/10 8:26       4.25      PX    21730R\n",
       "7      427266     427266         3  01/12/10 8:35       5.95      PX    21756Q\n",
       "8      462735     462735        28  01/12/10 8:45       3.75      RA    22728B\n",
       "9      462735     462735        28  01/12/10 8:45       3.75      RA    22727B"
      ]
     },
     "execution_count": 2,
     "metadata": {},
     "output_type": "execute_result"
    }
   ],
   "source": [
    "df.head(10)"
   ]
  },
  {
   "cell_type": "code",
   "execution_count": 3,
   "metadata": {
    "_uuid": "e9339d22d258037e0bf375f17dbc62cc72140750"
   },
   "outputs": [],
   "source": [
    "#removing unnecassary columns\n",
    "df=df.drop(columns=['InvoiceDate','InvoiceNo','UnitPrice','Country'])"
   ]
  },
  {
   "cell_type": "code",
   "execution_count": 4,
   "metadata": {
    "_uuid": "e4fe78c840cb9ddf277841fa1a17fd83e61f8923"
   },
   "outputs": [
    {
     "data": {
      "text/html": [
       "<div>\n",
       "<style scoped>\n",
       "    .dataframe tbody tr th:only-of-type {\n",
       "        vertical-align: middle;\n",
       "    }\n",
       "\n",
       "    .dataframe tbody tr th {\n",
       "        vertical-align: top;\n",
       "    }\n",
       "\n",
       "    .dataframe thead th {\n",
       "        text-align: right;\n",
       "    }\n",
       "</style>\n",
       "<table border=\"1\" class=\"dataframe\">\n",
       "  <thead>\n",
       "    <tr style=\"text-align: right;\">\n",
       "      <th></th>\n",
       "      <th>CustomerID</th>\n",
       "      <th>Quantity</th>\n",
       "      <th>StockCode</th>\n",
       "    </tr>\n",
       "  </thead>\n",
       "  <tbody>\n",
       "    <tr>\n",
       "      <th>0</th>\n",
       "      <td>27270</td>\n",
       "      <td>7</td>\n",
       "      <td>85123AY</td>\n",
       "    </tr>\n",
       "    <tr>\n",
       "      <th>1</th>\n",
       "      <td>27270</td>\n",
       "      <td>7</td>\n",
       "      <td>71053R</td>\n",
       "    </tr>\n",
       "    <tr>\n",
       "      <th>2</th>\n",
       "      <td>27270</td>\n",
       "      <td>9</td>\n",
       "      <td>84406BH</td>\n",
       "    </tr>\n",
       "    <tr>\n",
       "      <th>3</th>\n",
       "      <td>27270</td>\n",
       "      <td>7</td>\n",
       "      <td>84029GV</td>\n",
       "    </tr>\n",
       "    <tr>\n",
       "      <th>4</th>\n",
       "      <td>27270</td>\n",
       "      <td>7</td>\n",
       "      <td>84029EX</td>\n",
       "    </tr>\n",
       "  </tbody>\n",
       "</table>\n",
       "</div>"
      ],
      "text/plain": [
       "   CustomerID  Quantity StockCode\n",
       "0       27270         7   85123AY\n",
       "1       27270         7    71053R\n",
       "2       27270         9   84406BH\n",
       "3       27270         7   84029GV\n",
       "4       27270         7   84029EX"
      ]
     },
     "execution_count": 4,
     "metadata": {},
     "output_type": "execute_result"
    }
   ],
   "source": [
    "newdf=df\n",
    "newdf.head()"
   ]
  },
  {
   "cell_type": "code",
   "execution_count": 5,
   "metadata": {
    "_uuid": "ef7aa1e2651ef3301e3d62b48683de709238a812"
   },
   "outputs": [],
   "source": [
    "#algo = SVD()\n",
    "data=newdf\n",
    "#cross_validate(algo,data,measures=['RMSE', 'MAE'], cv=5, verbose=True)"
   ]
  },
  {
   "cell_type": "code",
   "execution_count": 6,
   "metadata": {
    "_uuid": "76b3b09b89791425604fdc0748cd3ea06914e5a2"
   },
   "outputs": [
    {
     "name": "stdout",
     "output_type": "stream",
     "text": [
      "Requirement already satisfied: virtualenv in /Library/Frameworks/Python.framework/Versions/3.7/lib/python3.7/site-packages (16.4.1)\r\n"
     ]
    }
   ],
   "source": [
    "!pip install virtualenv"
   ]
  },
  {
   "cell_type": "code",
   "execution_count": 7,
   "metadata": {
    "_uuid": "6eebb1ee4d83d8cc8b5b4906d59d71ec9f61f40a"
   },
   "outputs": [
    {
     "name": "stdout",
     "output_type": "stream",
     "text": [
      "Requirement already up-to-date: pip in /Library/Frameworks/Python.framework/Versions/3.7/lib/python3.7/site-packages (19.0.3)\r\n"
     ]
    }
   ],
   "source": [
    "!pip install --upgrade pip"
   ]
  },
  {
   "cell_type": "code",
   "execution_count": 8,
   "metadata": {
    "_uuid": "b8e5887c6de5f31b6ac28db2c4d6b19b8f8be3fd"
   },
   "outputs": [
    {
     "name": "stdout",
     "output_type": "stream",
     "text": [
      "Using base prefix '/Library/Frameworks/Python.framework/Versions/3.7'\n",
      "New python executable in /Users/abhineethmishra/Downloads/venv/bin/python3.7\n",
      "Also creating executable in /Users/abhineethmishra/Downloads/venv/bin/python\n",
      "Installing setuptools, pip, wheel...\n",
      "done.\n",
      "/bin/sh: pythonenv/bin/activate: No such file or directory\n"
     ]
    }
   ],
   "source": [
    "!cd ~\n",
    "!virtualenv venv\n",
    "\n",
    "# Active your virtual environment\n",
    "!source pythonenv/bin/activate"
   ]
  },
  {
   "cell_type": "code",
   "execution_count": 11,
   "metadata": {
    "_uuid": "b83c65429835c27114a28314014c040cc25aa30f"
   },
   "outputs": [
    {
     "name": "stdout",
     "output_type": "stream",
     "text": [
      "/bin/sh: shell: command not found\n",
      "Collecting turicreate\n",
      "  Using cached https://files.pythonhosted.org/packages/db/54/167837569bcb816b3fe68f003f18d07ab9d5ac31b2b12b8f9b07b1ccc7a4/turicreate-4.2.tar.gz\n",
      "Installing collected packages: turicreate\n",
      "  Running setup.py install for turicreate ... \u001b[?25lerror\n",
      "    Complete output from command /Library/Frameworks/Python.framework/Versions/3.7/bin/python3.7 -u -c \"import setuptools, tokenize;__file__='/private/var/folders/21/x2gdvwls52xfg_x7n07mdbpw0000gn/T/pip-install-qffabvtl/turicreate/setup.py';f=getattr(tokenize, 'open', open)(__file__);code=f.read().replace('\\r\\n', '\\n');f.close();exec(compile(code, __file__, 'exec'))\" install --record /private/var/folders/21/x2gdvwls52xfg_x7n07mdbpw0000gn/T/pip-record-8uquu665/install-record.txt --single-version-externally-managed --compile:\n",
      "    running install\n",
      "    \n",
      "    \n",
      "            ==================================================================================\n",
      "            ERROR\n",
      "    \n",
      "            If you see this message, pip install did not find an available binary package\n",
      "            for your system. Supported platforms are:\n",
      "    \n",
      "            * Linux x86_64 (including WSL on Windows 10).\n",
      "            * macOS 10.12+ x86_64.\n",
      "            * Python 2.7, 3.5, or 3.6.\n",
      "    \n",
      "            Other possible causes of this error are:\n",
      "    \n",
      "            * Outdated pip version (try `pip install -U pip`).\n",
      "    \n",
      "            ==================================================================================\n",
      "    \n",
      "    \n",
      "    \n",
      "    ----------------------------------------\n",
      "\u001b[31mCommand \"/Library/Frameworks/Python.framework/Versions/3.7/bin/python3.7 -u -c \"import setuptools, tokenize;__file__='/private/var/folders/21/x2gdvwls52xfg_x7n07mdbpw0000gn/T/pip-install-qffabvtl/turicreate/setup.py';f=getattr(tokenize, 'open', open)(__file__);code=f.read().replace('\\r\\n', '\\n');f.close();exec(compile(code, __file__, 'exec'))\" install --record /private/var/folders/21/x2gdvwls52xfg_x7n07mdbpw0000gn/T/pip-record-8uquu665/install-record.txt --single-version-externally-managed --compile\" failed with error code 1 in /private/var/folders/21/x2gdvwls52xfg_x7n07mdbpw0000gn/T/pip-install-qffabvtl/turicreate/\u001b[0m\n",
      "\u001b[?25h"
     ]
    }
   ],
   "source": [
    "!```shell` pip3 install -U turicreate"
   ]
  },
  {
   "cell_type": "code",
   "execution_count": 12,
   "metadata": {
    "_uuid": "d407c2dda1f2449fa71017769a995cfe6d5fc383"
   },
   "outputs": [
    {
     "ename": "ModuleNotFoundError",
     "evalue": "No module named 'turicreate'",
     "output_type": "error",
     "traceback": [
      "\u001b[0;31m---------------------------------------------------------------------------\u001b[0m",
      "\u001b[0;31mModuleNotFoundError\u001b[0m                       Traceback (most recent call last)",
      "\u001b[0;32m<ipython-input-12-5e19a42750e5>\u001b[0m in \u001b[0;36m<module>\u001b[0;34m\u001b[0m\n\u001b[0;32m----> 1\u001b[0;31m \u001b[0;32mimport\u001b[0m \u001b[0mturicreate\u001b[0m \u001b[0;32mas\u001b[0m \u001b[0mtc\u001b[0m\u001b[0;34m\u001b[0m\u001b[0;34m\u001b[0m\u001b[0m\n\u001b[0m",
      "\u001b[0;31mModuleNotFoundError\u001b[0m: No module named 'turicreate'"
     ]
    }
   ],
   "source": [
    "import turicreate as tc"
   ]
  },
  {
   "cell_type": "code",
   "execution_count": null,
   "metadata": {
    "_uuid": "c54f4860fad36b5ec2a93e732da4f1cdfd9e4269"
   },
   "outputs": [],
   "source": [
    "def create_data_dummy(data):\n",
    "    data_dummy = data.copy()\n",
    "    data_dummy['purchase_dummy'] = 1\n",
    "    return data_dummy\n",
    "data_dummy = create_data_dummy(data)"
   ]
  },
  {
   "cell_type": "code",
   "execution_count": null,
   "metadata": {
    "_uuid": "bdf81b2c2e613b8551e8fedc9134f74b06975801"
   },
   "outputs": [],
   "source": [
    "data_dummy.head()"
   ]
  },
  {
   "cell_type": "code",
   "execution_count": null,
   "metadata": {
    "_uuid": "c936f4731da6bc1f25c7913e844883bb051b8f8f"
   },
   "outputs": [],
   "source": [
    "#Normalizing using user-item matrix\n",
    "df_matrix = pd.pivot_table(data, values='Quantity', index='CustomerID', columns='StockCode')\n",
    "#normalizing\n",
    "df_matrix_norm = (df_matrix-df_matrix.min())/(df_matrix.max()-df_matrix.min())"
   ]
  },
  {
   "cell_type": "code",
   "execution_count": null,
   "metadata": {
    "_uuid": "c84951f5711dec195a192285a79335debb54ad18"
   },
   "outputs": [],
   "source": [
    "# create a table for input to the modeling  \n",
    "d = df_matrix_norm.reset_index() \n",
    "d.index.names = ['scaled_purchase_freq'] \n",
    "data_norm = pd.melt(d, id_vars=['CustomerID'], value_name='scaled_purchase_freq').dropna()\n",
    "print(data_norm.shape)\n",
    "data_norm.head()"
   ]
  },
  {
   "cell_type": "code",
   "execution_count": null,
   "metadata": {
    "_uuid": "a12414f0c9da747bc30523d1a620123e99ede258"
   },
   "outputs": [],
   "source": [
    "df_matrix_norm.shape"
   ]
  },
  {
   "cell_type": "code",
   "execution_count": null,
   "metadata": {
    "_uuid": "28d9fd8f221df4984161dbcf9b469d3ff007c61d"
   },
   "outputs": [],
   "source": [
    "#putiing this into a function\n",
    "def normalize_data(data):\n",
    "    df_matrix = pd.pivot_table(data, values='Quantity', index='CustomerID', columns='StockCode')\n",
    "    df_matrix_norm = (df_matrix-df_matrix.min())/(df_matrix.max()-df_matrix.min())\n",
    "    d = df_matrix_norm.reset_index()\n",
    "    d.index.names = ['scaled_purchase_freq']\n",
    "    return pd.melt(d, id_vars=['CustomerID'], value_name='scaled_purchase_freq').dropna()"
   ]
  },
  {
   "cell_type": "code",
   "execution_count": null,
   "metadata": {
    "_uuid": "16685038877cdca77a79372f7c6959b6a4e5d5d7"
   },
   "outputs": [],
   "source": [
    "def split_data(data):\n",
    "    '''\n",
    "    Splits dataset into training and test set.\n",
    "    \n",
    "    Args:\n",
    "        data (pandas.DataFrame)\n",
    "        \n",
    "    Returns\n",
    "        train_data (tc.SFrame)\n",
    "        test_data (tc.SFrame)\n",
    "    '''\n",
    "    train, test = train_test_split(data, test_size = 0.2)\n",
    "    train_data = tc.SFrame(train)\n",
    "    test_data = tc.SFrame(test)\n",
    "    return train_data, test_data"
   ]
  },
  {
   "cell_type": "code",
   "execution_count": null,
   "metadata": {
    "_uuid": "57ddc2498e08dffb1a00aecdc8f6769c2648e4f4"
   },
   "outputs": [],
   "source": [
    "import sklearn\n",
    "from sklearn.model_selection import train_test_split\n",
    "train_data, test_data = split_data(data)\n",
    "train_data_dummy, test_data_dummy = split_data(data_dummy)\n",
    "train_data_norm, test_data_norm = split_data(data_norm)"
   ]
  },
  {
   "cell_type": "code",
   "execution_count": null,
   "metadata": {
    "_uuid": "491f9ea2b5df8950d24de0e63f98786086454929"
   },
   "outputs": [],
   "source": [
    "customers=[]\n",
    "customers=newdf['CustomerID'].unique()"
   ]
  },
  {
   "cell_type": "code",
   "execution_count": null,
   "metadata": {
    "_uuid": "8fe95811373cf992cfba048ecdbdbf712aaa6120"
   },
   "outputs": [],
   "source": [
    "#Defining the model using turicreate\n",
    "user_id = 'CustomerID'\n",
    "item_id = 'StockCode'\n",
    "users_to_recommend = customers\n",
    "n_rec = 10 # number of items to recommend\n",
    "n_display = 30 # to display the first few rows in an output dataset"
   ]
  },
  {
   "cell_type": "code",
   "execution_count": null,
   "metadata": {
    "_uuid": "e34845985a226b789c6cfd4731e623efe0394b85"
   },
   "outputs": [],
   "source": [
    "def model(train_data, name, user_id, item_id, target, users_to_recommend, n_rec, n_display):\n",
    "    if name == 'popularity':\n",
    "        model = tc.popularity_recommender.create(train_data, \n",
    "                                                    user_id=user_id, \n",
    "                                                    item_id=item_id, \n",
    "                                                    target=target)\n",
    "    elif name == 'cosine':\n",
    "        model = tc.item_similarity_recommender.create(train_data, \n",
    "                                                    user_id=user_id, \n",
    "                                                    item_id=item_id, \n",
    "                                                    target=target, \n",
    "                                                    similarity_type='cosine')\n",
    "    elif name == 'pearson':\n",
    "        model = tc.item_similarity_recommender.create(train_data, \n",
    "                                                    user_id=user_id, \n",
    "                                                    item_id=item_id, \n",
    "                                                    target=target, \n",
    "                                                    similarity_type='pearson')\n",
    "        \n",
    "    recom = model.recommend(users=users_to_recommend, k=n_rec)\n",
    "    recom.print_rows(n_display)\n",
    "    return model"
   ]
  },
  {
   "cell_type": "code",
   "execution_count": null,
   "metadata": {
    "_uuid": "b1a32a7a25cbf8fa458a08357b03bc050960f010"
   },
   "outputs": [],
   "source": [
    "name = 'popularity'\n",
    "target = 'Quantity'\n",
    "popularity = model(train_data, name, user_id, item_id, target, users_to_recommend, n_rec, n_display)"
   ]
  },
  {
   "cell_type": "code",
   "execution_count": null,
   "metadata": {
    "_uuid": "c2e11020738401189d6d74688a3845afbd10e485"
   },
   "outputs": [],
   "source": [
    "name = 'popularity'\n",
    "target = 'purchase_dummy'\n",
    "pop_dummy = model(train_data_dummy, name, user_id, item_id, target, users_to_recommend, n_rec, n_display)"
   ]
  },
  {
   "cell_type": "code",
   "execution_count": null,
   "metadata": {
    "_uuid": "2196333039e38ff9cdd3ea1b687383976bb9a28b"
   },
   "outputs": [],
   "source": [
    "name = 'popularity'\n",
    "target = 'scaled_purchase_freq'\n",
    "pop_norm = model(train_data_norm, name, user_id, item_id, target, users_to_recommend, n_rec, n_display)"
   ]
  },
  {
   "cell_type": "code",
   "execution_count": null,
   "metadata": {
    "_uuid": "7572bf503a10b10be3c688b345f9feac8876e5d7"
   },
   "outputs": [],
   "source": [
    "name = 'cosine'\n",
    "target = 'Quantity'\n",
    "cos = model(train_data, name, user_id, item_id, target, users_to_recommend, n_rec, n_display)"
   ]
  },
  {
   "cell_type": "code",
   "execution_count": null,
   "metadata": {
    "_uuid": "c289a7afdd9d5d6cd89b1b573f42a35cb98d10c9"
   },
   "outputs": [],
   "source": [
    "name = 'cosine'\n",
    "target = 'purchase_dummy'\n",
    "cos_dummy = model(train_data_dummy, name, user_id, item_id, target, users_to_recommend, n_rec, n_display)"
   ]
  },
  {
   "cell_type": "code",
   "execution_count": null,
   "metadata": {
    "_uuid": "98bf0f3dfba3ac0588c1f77518b4c986aa9f0c67"
   },
   "outputs": [],
   "source": [
    "name = 'cosine' \n",
    "target = 'scaled_purchase_freq' \n",
    "cos_norm = model(train_data_norm, name, user_id, item_id, target, users_to_recommend, n_rec, n_display)"
   ]
  },
  {
   "cell_type": "code",
   "execution_count": null,
   "metadata": {
    "_uuid": "457ef9edbe25f26216fe4c0c48650c6981714e8d"
   },
   "outputs": [],
   "source": [
    "name = 'pearson'\n",
    "target = 'Quantity'\n",
    "pear = model(train_data, name, user_id, item_id, target, users_to_recommend, n_rec, n_display)"
   ]
  },
  {
   "cell_type": "code",
   "execution_count": null,
   "metadata": {
    "_uuid": "841225d21734c4bc768f063039e538096990ce50"
   },
   "outputs": [],
   "source": [
    "name = 'pearson'\n",
    "target = 'purchase_dummy'\n",
    "pear_dummy = model(train_data_dummy, name, user_id, item_id, target, users_to_recommend, n_rec, n_display)"
   ]
  },
  {
   "cell_type": "code",
   "execution_count": null,
   "metadata": {
    "_uuid": "e93dd9dad57e53187acb9ce4fb5bc9679771e582"
   },
   "outputs": [],
   "source": [
    "name = 'pearson'\n",
    "target = 'scaled_purchase_freq'\n",
    "pear_norm = model(train_data_norm, name, user_id, item_id, target, users_to_recommend, n_rec, n_display)"
   ]
  },
  {
   "cell_type": "code",
   "execution_count": null,
   "metadata": {
    "_uuid": "0ce4d1587e33c26c8a19d0f56394bbc376f0f89a"
   },
   "outputs": [],
   "source": [
    "'''Model Evaluation'''\n",
    "#initial variables\n",
    "models_w_counts = [popularity, cos, pear]\n",
    "models_w_dummy = [pop_dummy, cos_dummy, pear_dummy]\n",
    "models_w_norm = [pop_norm, cos_norm, pear_norm]\n",
    "names_w_counts = ['Popularity Model on Purchase Counts', 'Cosine Similarity on Purchase Counts', 'Pearson Similarity on Purchase Counts']\n",
    "names_w_dummy = ['Popularity Model on Purchase Dummy', 'Cosine Similarity on Purchase Dummy', 'Pearson Similarity on Purchase Dummy']\n",
    "names_w_norm = ['Popularity Model on Scaled Purchase Counts', 'Cosine Similarity on Scaled Purchase Counts', 'Pearson Similarity on Scaled Purchase Counts']"
   ]
  },
  {
   "cell_type": "code",
   "execution_count": null,
   "metadata": {
    "_uuid": "4c80f5a5f72336730b8ca0a25b01a3b53c2217d2"
   },
   "outputs": [],
   "source": [
    "eval_counts = tc.recommender.util.compare_models(test_data, models_w_counts, model_names=names_w_counts)\n",
    "eval_dummy = tc.recommender.util.compare_models(test_data_dummy, models_w_dummy, model_names=names_w_dummy)\n",
    "eval_norm = tc.recommender.util.compare_models(test_data_norm, models_w_norm, model_names=names_w_norm)"
   ]
  },
  {
   "cell_type": "code",
   "execution_count": null,
   "metadata": {
    "_uuid": "4194aaed2bafb327fc50c0af379e460f876243cd"
   },
   "outputs": [],
   "source": []
  }
 ],
 "metadata": {
  "kernelspec": {
   "display_name": "Python 3",
   "language": "python",
   "name": "python3"
  },
  "language_info": {
   "codemirror_mode": {
    "name": "ipython",
    "version": 3
   },
   "file_extension": ".py",
   "mimetype": "text/x-python",
   "name": "python",
   "nbconvert_exporter": "python",
   "pygments_lexer": "ipython3",
   "version": "3.6.8"
  }
 },
 "nbformat": 4,
 "nbformat_minor": 1
}
